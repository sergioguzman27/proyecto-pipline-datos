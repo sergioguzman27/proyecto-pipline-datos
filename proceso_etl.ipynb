{
 "cells": [
  {
   "cell_type": "code",
   "execution_count": 1,
   "metadata": {},
   "outputs": [],
   "source": [
    "import configparser\n",
    "from utils import etl"
   ]
  },
  {
   "attachments": {},
   "cell_type": "markdown",
   "metadata": {},
   "source": [
    "Instanciamos el objeto etl_manager de la clase ETL"
   ]
  },
  {
   "cell_type": "code",
   "execution_count": 2,
   "metadata": {},
   "outputs": [
    {
     "data": {
      "text/plain": [
       "['escec.cfg']"
      ]
     },
     "execution_count": 2,
     "metadata": {},
     "output_type": "execute_result"
    }
   ],
   "source": [
    "config = configparser.ConfigParser()\n",
    "config.read('escec.cfg')"
   ]
  },
  {
   "cell_type": "code",
   "execution_count": 3,
   "metadata": {},
   "outputs": [],
   "source": [
    "etl_manager = etl.ETL(config)"
   ]
  },
  {
   "attachments": {},
   "cell_type": "markdown",
   "metadata": {},
   "source": [
    "Creamos la instancia del DW"
   ]
  },
  {
   "cell_type": "code",
   "execution_count": 4,
   "metadata": {},
   "outputs": [
    {
     "name": "stdout",
     "output_type": "stream",
     "text": [
      "La Instancia de Base de Datos ya Existe.\n",
      "grocery.cdypjxkrdsb2.us-east-1.rds.amazonaws.com\n",
      "result  <sqlalchemy.engine.cursor.LegacyCursorResult object at 0x0000026C0BA8FA30>\n"
     ]
    }
   ],
   "source": [
    "etl_manager.crear_dw('grocery')"
   ]
  },
  {
   "attachments": {},
   "cell_type": "markdown",
   "metadata": {},
   "source": [
    "Formamos las dimensiones del DW"
   ]
  },
  {
   "cell_type": "code",
   "execution_count": 5,
   "metadata": {},
   "outputs": [
    {
     "name": "stdout",
     "output_type": "stream",
     "text": [
      "categoria_dim_df\n",
      "            subCategory  idSubCategory           category\n",
      "0              Masalas              1       Oil & Masala\n",
      "1    Edible Oil & Ghee             13       Oil & Masala\n",
      "2               Spices             21       Oil & Masala\n",
      "3        Health Drinks              2          Beverages\n",
      "4          Soft Drinks             15          Beverages\n",
      "5         Atta & Flour              3        Food Grains\n",
      "6      Organic Staples              5        Food Grains\n",
      "7        Dals & Pulses             16        Food Grains\n",
      "8                 Rice             22        Food Grains\n",
      "9     Fresh Vegetables              4   Fruits & Veggies\n",
      "10        Fresh Fruits              6   Fruits & Veggies\n",
      "11  Organic Vegetables             17   Fruits & Veggies\n",
      "12      Organic Fruits             19   Fruits & Veggies\n",
      "13            Biscuits              7             Bakery\n",
      "14               Cakes              8             Bakery\n",
      "15       Breads & Buns             23             Bakery\n",
      "16          Chocolates              9             Snacks\n",
      "17             Cookies             11             Snacks\n",
      "18             Noodles             18             Snacks\n",
      "19                Eggs             10  Eggs, Meat & Fish\n",
      "20             Chicken             12  Eggs, Meat & Fish\n",
      "21              Mutton             14  Eggs, Meat & Fish\n",
      "22                Fish             20  Eggs, Meat & Fish\n"
     ]
    }
   ],
   "source": [
    "etl_manager.crear_dim_categoria()"
   ]
  },
  {
   "cell_type": "code",
   "execution_count": 6,
   "metadata": {},
   "outputs": [
    {
     "name": "stdout",
     "output_type": "stream",
     "text": [
      "clientes_dim_df\n",
      "       idCustomer     name         city       state region\n",
      "0              1   Harish      Vellore  Tamil Nadu  North\n",
      "1              2    Sudha  Krishnagiri  Tamil Nadu  South\n",
      "2            224   Arvind  Krishnagiri  Tamil Nadu  South\n",
      "3            301   Arutra  Krishnagiri  Tamil Nadu  South\n",
      "4            311     Ravi  Krishnagiri  Tamil Nadu  South\n",
      "...          ...      ...          ...         ...    ...\n",
      "4127        3860  Hussain         Bodi  Tamil Nadu  South\n",
      "4128        3869    Yusuf         Bodi  Tamil Nadu  South\n",
      "4129        3899  Ridhesh         Bodi  Tamil Nadu  South\n",
      "4130        4062   Sundar         Bodi  Tamil Nadu  South\n",
      "4131        4065    Veena         Bodi  Tamil Nadu  South\n",
      "\n",
      "[4132 rows x 5 columns]\n"
     ]
    }
   ],
   "source": [
    "etl_manager.crear_dim_cliente()"
   ]
  },
  {
   "cell_type": "code",
   "execution_count": 7,
   "metadata": {},
   "outputs": [
    {
     "name": "stdout",
     "output_type": "stream",
     "text": [
      "fechas_dim_df\n",
      "        fullDate    idDate  dayOfWeek  dayNumInMonth  dayNumOverall    dayName  \\\n",
      "0    2017-11-08  20171108          3              8            312  Wednesday   \n",
      "2    2017-06-12  20170612          1             12            163     Monday   \n",
      "3    2016-10-11  20161011          2             11            285    Tuesday   \n",
      "5    2015-06-09  20150609          2              9            160    Tuesday   \n",
      "12   2018-04-15  20180415          7             15            105     Sunday   \n",
      "...         ...       ...        ...            ...            ...        ...   \n",
      "9684 2017-08-20  20170820          7             20            232     Sunday   \n",
      "9749 2016-05-16  20160516          1             16            137     Monday   \n",
      "9804 2015-03-16  20150316          1             16             75     Monday   \n",
      "9832 2016-08-29  20160829          1             29            242     Monday   \n",
      "9885 2017-04-06  20170406          4              6             96   Thursday   \n",
      "\n",
      "     dayAbbrev  weekdayFlag  weekNumInYear  weekNumOverall weekBeginDate  \\\n",
      "0          Wed         True             45              45    2017-11-06   \n",
      "2          Mon         True             24              24    2017-06-12   \n",
      "3          Tue         True             41              41    2016-10-10   \n",
      "5          Tue         True             24              24    2015-06-08   \n",
      "12         Sun        False             15              15    2018-04-09   \n",
      "...        ...          ...            ...             ...           ...   \n",
      "9684       Sun        False             33              33    2017-08-14   \n",
      "9749       Mon         True             20              20    2016-05-16   \n",
      "9804       Mon         True             12              12    2015-03-16   \n",
      "9832       Mon         True             35              35    2016-08-29   \n",
      "9885       Thu         True             14              14    2017-04-03   \n",
      "\n",
      "      month  monthNumOverall monthName monthAbbrev  quarter  year  \n",
      "0        11               11  November         Nov        4  2017  \n",
      "2         6                6      June         Jun        2  2017  \n",
      "3        10               10   October         Oct        4  2016  \n",
      "5         6                6      June         Jun        2  2015  \n",
      "12        4                4     April         Apr        2  2018  \n",
      "...     ...              ...       ...         ...      ...   ...  \n",
      "9684      8                8    August         Aug        3  2017  \n",
      "9749      5                5       May         May        2  2016  \n",
      "9804      3                3     March         Mar        1  2015  \n",
      "9832      8                8    August         Aug        3  2016  \n",
      "9885      4                4     April         Apr        2  2017  \n",
      "\n",
      "[1236 rows x 17 columns]\n"
     ]
    }
   ],
   "source": [
    "etl_manager.crear_dim_fechas()"
   ]
  }
 ],
 "metadata": {
  "kernelspec": {
   "display_name": "datascience",
   "language": "python",
   "name": "python3"
  },
  "language_info": {
   "codemirror_mode": {
    "name": "ipython",
    "version": 3
   },
   "file_extension": ".py",
   "mimetype": "text/x-python",
   "name": "python",
   "nbconvert_exporter": "python",
   "pygments_lexer": "ipython3",
   "version": "3.9.16"
  },
  "orig_nbformat": 4
 },
 "nbformat": 4,
 "nbformat_minor": 2
}
