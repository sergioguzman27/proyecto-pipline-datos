{
 "cells": [
  {
   "attachments": {},
   "cell_type": "markdown",
   "metadata": {},
   "source": [
    "# Informe Proyecto Final"
   ]
  },
  {
   "attachments": {},
   "cell_type": "markdown",
   "metadata": {},
   "source": [
    "## Scope del Proyecto"
   ]
  },
  {
   "attachments": {},
   "cell_type": "markdown",
   "metadata": {},
   "source": [
    "Los datos para este problema serán proporcionados mediante un dataset del sitio web Kaggle https://www.kaggle.com/datasets/mohamedharris/supermart-grocery-sales-retail-analytics-dataset"
   ]
  },
  {
   "attachments": {},
   "cell_type": "markdown",
   "metadata": {},
   "source": [
    "El dataset corresponde a una Venta de productos de abarrotería y se centra en las ventas a clientes clasificada por categorias y sub categorias"
   ]
  },
  {
   "attachments": {},
   "cell_type": "markdown",
   "metadata": {},
   "source": [
    "### Exploracion de los datos"
   ]
  },
  {
   "attachments": {},
   "cell_type": "markdown",
   "metadata": {},
   "source": [
    "Este set de datos contiene las siguientes columnas:\n",
    "\n",
    "- Order ID - Id de la orden\n",
    "- Customer Name - Nombre del cliente\n",
    "- Category - Categoria del producto\n",
    "- Sub Category - Sub categoria del producto\n",
    "- City - Ciudad del cliente\n",
    "- Order Date - Fecha de la orden\n",
    "- Region - Región de la ciudad.\n",
    "- Sales - Venta de la orden\n",
    "- Discount - Porcentaje de Descuento de la orden\n",
    "- Profit - Ganancia generada en la orden\n",
    "- State - Provincia o estado de la ciudad"
   ]
  },
  {
   "attachments": {},
   "cell_type": "markdown",
   "metadata": {},
   "source": [
    "La exploración completa de los datos la puede encontrar en el Notebook `exploracion-datos`"
   ]
  },
  {
   "attachments": {},
   "cell_type": "markdown",
   "metadata": {},
   "source": [
    "### Modelo de datos"
   ]
  },
  {
   "attachments": {},
   "cell_type": "markdown",
   "metadata": {},
   "source": [
    "La idea general del proyecto es descomponer este set de datos en varias dimensiones tales como:\n",
    "- Dimensión de categoria\n",
    "- Dimension de cliente\n",
    "- Dimension de Fechas (Generadas de forma aleatoria para complementar el set de datos)"
   ]
  },
  {
   "attachments": {},
   "cell_type": "markdown",
   "metadata": {},
   "source": [
    "Se implementará un Datawarehouse para esto en donde se creará también la Fact Table"
   ]
  },
  {
   "attachments": {},
   "cell_type": "markdown",
   "metadata": {},
   "source": [
    "![image.png](./diagramas/dw_diagrama.PNG)"
   ]
  },
  {
   "attachments": {},
   "cell_type": "markdown",
   "metadata": {},
   "source": [
    "### Procesamiento"
   ]
  },
  {
   "attachments": {},
   "cell_type": "markdown",
   "metadata": {},
   "source": [
    "#### Preparación de fuentes"
   ]
  },
  {
   "attachments": {},
   "cell_type": "markdown",
   "metadata": {},
   "source": [
    "Antes del proceso ETL se tuvo que preparar las fuentes de datos para que cumpliera con los requisitos del proyecto."
   ]
  },
  {
   "attachments": {},
   "cell_type": "markdown",
   "metadata": {},
   "source": [
    "En un Bucket S3 se cargaron dos archivos estos corresponden a:\n",
    "- Sub Category\n",
    "- Category"
   ]
  },
  {
   "attachments": {},
   "cell_type": "markdown",
   "metadata": {},
   "source": [
    "En una base de datos Mysql en RDS se crearon las siguientes tablas:\n",
    "- Customer\n",
    "- Region\n",
    "- City\n",
    "- Order"
   ]
  },
  {
   "attachments": {},
   "cell_type": "markdown",
   "metadata": {},
   "source": [
    "Para descomponer el dataset elegido en estas dos fuentes de información diferente se puede visualizar en el notebook `preparacion_db`"
   ]
  },
  {
   "attachments": {},
   "cell_type": "markdown",
   "metadata": {},
   "source": [
    "#### Proceso ETL"
   ]
  },
  {
   "attachments": {},
   "cell_type": "markdown",
   "metadata": {},
   "source": [
    "Toda la parte del proceso ETL se puede visualizar en el notebook de `proceso_etl`"
   ]
  },
  {
   "attachments": {},
   "cell_type": "markdown",
   "metadata": {},
   "source": [
    "En la instancia RDS es donde se almacenaran las dos bases de datos llamadas:\n",
    "- grocery_db: Fuente de origen 1\n",
    "- grocery_dw: Datawarehouse\n",
    "\n",
    "Mientras que en el S3 estará estar creado el bucket: dc-proyecto02-catalogos\n",
    "\n",
    "Todos estos nombres pueden ser editados desde el archivo de configuración `escec.cfg`"
   ]
  },
  {
   "attachments": {},
   "cell_type": "markdown",
   "metadata": {},
   "source": [
    "###  Análitica"
   ]
  },
  {
   "attachments": {},
   "cell_type": "markdown",
   "metadata": {},
   "source": [
    "Con el Datawarehouse armado podemos armar varias interrogantes que puden ser resueltas con alguna herramienta de visualización que haga uso del DW armado."
   ]
  },
  {
   "attachments": {},
   "cell_type": "markdown",
   "metadata": {},
   "source": [
    "##### 1. Ventas por Región"
   ]
  },
  {
   "attachments": {},
   "cell_type": "markdown",
   "metadata": {},
   "source": [
    "![](./reporteria/Grafica1.PNG)\n",
    "\n",
    "Con una grafica de barras podemos determinar que la región de Oeste presenta las mayores ventas."
   ]
  },
  {
   "attachments": {},
   "cell_type": "markdown",
   "metadata": {},
   "source": [
    "##### 2. Top Categorias con más ventas"
   ]
  },
  {
   "attachments": {},
   "cell_type": "markdown",
   "metadata": {},
   "source": [
    "![](./reporteria/Grafica2.PNG)\n",
    "\n",
    "Huevos y carne es la categoría con mayores ventas por categoría"
   ]
  },
  {
   "attachments": {},
   "cell_type": "markdown",
   "metadata": {},
   "source": [
    "##### 3. Meses con mayores descuentos"
   ]
  },
  {
   "attachments": {},
   "cell_type": "markdown",
   "metadata": {},
   "source": [
    "![](./reporteria/Grafica3.PNG)\n",
    "\n",
    "Con esta grafica podemos determinar que los meses de noviembre y diciembre son los que presentan mayores descuentos, esto debido a las festividades."
   ]
  },
  {
   "attachments": {},
   "cell_type": "markdown",
   "metadata": {},
   "source": [
    "##### 4. Sub categorias con mas ganancias"
   ]
  },
  {
   "attachments": {},
   "cell_type": "markdown",
   "metadata": {},
   "source": [
    "![](./reporteria/Grafica4.PNG)\n",
    "\n",
    "Con esta grafica de barras se pueden visualizar las sub categorías que presentan mayores ganancias para la compañia, siendo las bebidas saludables las que mejor utilidad presentan."
   ]
  },
  {
   "attachments": {},
   "cell_type": "markdown",
   "metadata": {},
   "source": [
    "##### 5. Ventas vs Descuentos vs Ganancias por año"
   ]
  },
  {
   "attachments": {},
   "cell_type": "markdown",
   "metadata": {},
   "source": [
    "![](./reporteria/Grafica5.PNG)\n",
    "\n",
    "Podemos ver el comportamiento de las ventas con respecto a los descuentos y a su vez las ganancias generadas. Podemos observar que el comportamiento es proporcial. Es decir que a mayores descuentos, tenemos mayores ventas y por ende mayores ganancias."
   ]
  }
 ],
 "metadata": {
  "language_info": {
   "name": "python"
  },
  "orig_nbformat": 4
 },
 "nbformat": 4,
 "nbformat_minor": 2
}
