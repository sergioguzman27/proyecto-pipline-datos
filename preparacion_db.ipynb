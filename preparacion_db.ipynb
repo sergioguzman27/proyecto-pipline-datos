{
 "cells": [
  {
   "cell_type": "code",
   "execution_count": 1,
   "metadata": {},
   "outputs": [],
   "source": [
    "import configparser\n",
    "from utils import fuentes_origen"
   ]
  },
  {
   "attachments": {},
   "cell_type": "markdown",
   "metadata": {},
   "source": [
    "Empezaremos instanciando un objeto y construyendo la instancia en AWS RDS"
   ]
  },
  {
   "cell_type": "code",
   "execution_count": 2,
   "metadata": {},
   "outputs": [
    {
     "data": {
      "text/plain": [
       "['escec.cfg']"
      ]
     },
     "execution_count": 2,
     "metadata": {},
     "output_type": "execute_result"
    }
   ],
   "source": [
    "config = configparser.ConfigParser()\n",
    "config.read('escec.cfg')"
   ]
  },
  {
   "cell_type": "code",
   "execution_count": 3,
   "metadata": {},
   "outputs": [],
   "source": [
    "fuente = fuentes_origen.FuentesOrigen(config)"
   ]
  },
  {
   "cell_type": "code",
   "execution_count": 4,
   "metadata": {},
   "outputs": [
    {
     "name": "stdout",
     "output_type": "stream",
     "text": [
      "La Instancia de Base de Datos ya Existe.\n"
     ]
    }
   ],
   "source": [
    "fuente.crear_instancia_rds('grocery')"
   ]
  },
  {
   "cell_type": "code",
   "execution_count": 5,
   "metadata": {},
   "outputs": [
    {
     "data": {
      "text/plain": [
       "['banco-db', 'grocery']"
      ]
     },
     "execution_count": 5,
     "metadata": {},
     "output_type": "execute_result"
    }
   ],
   "source": [
    "fuente.get_instancias_rds()"
   ]
  },
  {
   "attachments": {},
   "cell_type": "markdown",
   "metadata": {},
   "source": [
    "Obtenemos el host de la instancia creada"
   ]
  },
  {
   "cell_type": "code",
   "execution_count": 6,
   "metadata": {},
   "outputs": [
    {
     "name": "stdout",
     "output_type": "stream",
     "text": [
      "grocery.cdypjxkrdsb2.us-east-1.rds.amazonaws.com\n"
     ]
    }
   ],
   "source": [
    "host_db = fuente.get_host_db('grocery')"
   ]
  },
  {
   "attachments": {},
   "cell_type": "markdown",
   "metadata": {},
   "source": [
    "Cargamos el dataset y creamos la base de datos"
   ]
  },
  {
   "cell_type": "code",
   "execution_count": 7,
   "metadata": {},
   "outputs": [],
   "source": [
    "fuente.cargar_dataset('./sales.csv')"
   ]
  },
  {
   "cell_type": "code",
   "execution_count": 8,
   "metadata": {},
   "outputs": [
    {
     "name": "stdout",
     "output_type": "stream",
     "text": [
      "result  <sqlalchemy.engine.cursor.LegacyCursorResult object at 0x00000222BB5C25B0>\n"
     ]
    }
   ],
   "source": [
    "fuente.crear_base_relacional(host_db)"
   ]
  },
  {
   "attachments": {},
   "cell_type": "markdown",
   "metadata": {},
   "source": [
    "Cargamos los datos tanto a la base de datos como al bucket S3"
   ]
  },
  {
   "cell_type": "code",
   "execution_count": 9,
   "metadata": {},
   "outputs": [
    {
     "name": "stderr",
     "output_type": "stream",
     "text": [
      "c:\\Users\\sguzman\\Documents\\Universidad\\CienciaPython\\proyecto-pipline-datos\\utils\\fuentes_origen.py:72: SettingWithCopyWarning: \n",
      "A value is trying to be set on a copy of a slice from a DataFrame\n",
      "\n",
      "See the caveats in the documentation: https://pandas.pydata.org/pandas-docs/stable/user_guide/indexing.html#returning-a-view-versus-a-copy\n",
      "  regiones_df.drop_duplicates(inplace=True)\n",
      "c:\\Users\\sguzman\\Documents\\Universidad\\CienciaPython\\proyecto-pipline-datos\\utils\\fuentes_origen.py:74: SettingWithCopyWarning: \n",
      "A value is trying to be set on a copy of a slice from a DataFrame.\n",
      "Try using .loc[row_indexer,col_indexer] = value instead\n",
      "\n",
      "See the caveats in the documentation: https://pandas.pydata.org/pandas-docs/stable/user_guide/indexing.html#returning-a-view-versus-a-copy\n",
      "  regiones_df['idRegion'] = regiones_df.index + 1\n",
      "c:\\Users\\sguzman\\Documents\\Universidad\\CienciaPython\\proyecto-pipline-datos\\utils\\fuentes_origen.py:80: SettingWithCopyWarning: \n",
      "A value is trying to be set on a copy of a slice from a DataFrame\n",
      "\n",
      "See the caveats in the documentation: https://pandas.pydata.org/pandas-docs/stable/user_guide/indexing.html#returning-a-view-versus-a-copy\n",
      "  ciudades_df.drop_duplicates(inplace=True)\n",
      "c:\\Users\\sguzman\\Documents\\Universidad\\CienciaPython\\proyecto-pipline-datos\\utils\\fuentes_origen.py:82: SettingWithCopyWarning: \n",
      "A value is trying to be set on a copy of a slice from a DataFrame.\n",
      "Try using .loc[row_indexer,col_indexer] = value instead\n",
      "\n",
      "See the caveats in the documentation: https://pandas.pydata.org/pandas-docs/stable/user_guide/indexing.html#returning-a-view-versus-a-copy\n",
      "  ciudades_df['idCity'] = ciudades_df.index + 1\n",
      "c:\\Users\\sguzman\\Documents\\Universidad\\CienciaPython\\proyecto-pipline-datos\\utils\\fuentes_origen.py:89: SettingWithCopyWarning: \n",
      "A value is trying to be set on a copy of a slice from a DataFrame\n",
      "\n",
      "See the caveats in the documentation: https://pandas.pydata.org/pandas-docs/stable/user_guide/indexing.html#returning-a-view-versus-a-copy\n",
      "  clientes_df.drop_duplicates(inplace=True)\n",
      "c:\\Users\\sguzman\\Documents\\Universidad\\CienciaPython\\proyecto-pipline-datos\\utils\\fuentes_origen.py:91: SettingWithCopyWarning: \n",
      "A value is trying to be set on a copy of a slice from a DataFrame.\n",
      "Try using .loc[row_indexer,col_indexer] = value instead\n",
      "\n",
      "See the caveats in the documentation: https://pandas.pydata.org/pandas-docs/stable/user_guide/indexing.html#returning-a-view-versus-a-copy\n",
      "  clientes_df['idCustomer'] = clientes_df.index + 1\n",
      "c:\\Users\\sguzman\\Documents\\Universidad\\CienciaPython\\proyecto-pipline-datos\\utils\\fuentes_origen.py:98: SettingWithCopyWarning: \n",
      "A value is trying to be set on a copy of a slice from a DataFrame\n",
      "\n",
      "See the caveats in the documentation: https://pandas.pydata.org/pandas-docs/stable/user_guide/indexing.html#returning-a-view-versus-a-copy\n",
      "  categorias_df.drop_duplicates(inplace=True)\n",
      "c:\\Users\\sguzman\\Documents\\Universidad\\CienciaPython\\proyecto-pipline-datos\\utils\\fuentes_origen.py:100: SettingWithCopyWarning: \n",
      "A value is trying to be set on a copy of a slice from a DataFrame.\n",
      "Try using .loc[row_indexer,col_indexer] = value instead\n",
      "\n",
      "See the caveats in the documentation: https://pandas.pydata.org/pandas-docs/stable/user_guide/indexing.html#returning-a-view-versus-a-copy\n",
      "  categorias_df['Category Id'] = categorias_df.index + 1\n"
     ]
    },
    {
     "name": "stdout",
     "output_type": "stream",
     "text": [
      "Successful S3 put_object response. Status - 200\n"
     ]
    },
    {
     "name": "stderr",
     "output_type": "stream",
     "text": [
      "c:\\Users\\sguzman\\Documents\\Universidad\\CienciaPython\\proyecto-pipline-datos\\utils\\fuentes_origen.py:105: SettingWithCopyWarning: \n",
      "A value is trying to be set on a copy of a slice from a DataFrame\n",
      "\n",
      "See the caveats in the documentation: https://pandas.pydata.org/pandas-docs/stable/user_guide/indexing.html#returning-a-view-versus-a-copy\n",
      "  sub_categorias_df.drop_duplicates(inplace=True)\n",
      "c:\\Users\\sguzman\\Documents\\Universidad\\CienciaPython\\proyecto-pipline-datos\\utils\\fuentes_origen.py:107: SettingWithCopyWarning: \n",
      "A value is trying to be set on a copy of a slice from a DataFrame.\n",
      "Try using .loc[row_indexer,col_indexer] = value instead\n",
      "\n",
      "See the caveats in the documentation: https://pandas.pydata.org/pandas-docs/stable/user_guide/indexing.html#returning-a-view-versus-a-copy\n",
      "  sub_categorias_df['Sub Category Id'] = sub_categorias_df.index + 1\n"
     ]
    },
    {
     "name": "stdout",
     "output_type": "stream",
     "text": [
      "Successful S3 put_object response. Status - 200\n",
      "ordenes_df3\n",
      "       idOrder orderNumber  sales  discount  profit        date  idCustomer  \\\n",
      "0           1         OD1   1254      0.12  401.28  11-08-2017           1   \n",
      "1           2         OD2    749      0.18  149.80  11-08-2017           2   \n",
      "2           3         OD3   2360      0.21  165.20  06-12-2017           3   \n",
      "3           4         OD4    896      0.25   89.60  10-11-2016           4   \n",
      "4           5         OD5   2355      0.26  918.45  10-11-2016           5   \n",
      "...       ...         ...    ...       ...     ...         ...         ...   \n",
      "9989     9990      OD9990    945      0.16  359.10  12/24/2015        1210   \n",
      "9990     9991      OD9991   1195      0.26   71.70  07-12-2015         854   \n",
      "9991     9992      OD9992   1567      0.16  501.44  06-06-2017        2254   \n",
      "9992     9993      OD9993   1659      0.15  597.24  10/16/2018        1180   \n",
      "9993     9994      OD9994   1034      0.28  165.44   4/17/2018        2955   \n",
      "\n",
      "      sub_category_id  \n",
      "0                   1  \n",
      "1                   2  \n",
      "2                   3  \n",
      "3                   4  \n",
      "4                   5  \n",
      "...               ...  \n",
      "9989               10  \n",
      "9990                7  \n",
      "9991               22  \n",
      "9992               21  \n",
      "9993                3  \n",
      "\n",
      "[9994 rows x 8 columns]\n",
      "ordenes_df4\n",
      "       idOrder orderNumber  sales  discount  profit       date  idCustomer  \\\n",
      "0           1         OD1   1254      0.12  401.28 2017-11-08           1   \n",
      "1           2         OD2    749      0.18  149.80 2017-11-08           2   \n",
      "2           3         OD3   2360      0.21  165.20 2017-06-12           3   \n",
      "3           4         OD4    896      0.25   89.60 2016-10-11           4   \n",
      "4           5         OD5   2355      0.26  918.45 2016-10-11           5   \n",
      "...       ...         ...    ...       ...     ...        ...         ...   \n",
      "9989     9990      OD9990    945      0.16  359.10 2015-12-24        1210   \n",
      "9990     9991      OD9991   1195      0.26   71.70 2015-07-12         854   \n",
      "9991     9992      OD9992   1567      0.16  501.44 2017-06-06        2254   \n",
      "9992     9993      OD9993   1659      0.15  597.24 2018-10-16        1180   \n",
      "9993     9994      OD9994   1034      0.28  165.44 2018-04-17        2955   \n",
      "\n",
      "      sub_category_id  \n",
      "0                   1  \n",
      "1                   2  \n",
      "2                   3  \n",
      "3                   4  \n",
      "4                   5  \n",
      "...               ...  \n",
      "9989               10  \n",
      "9990                7  \n",
      "9991               22  \n",
      "9992               21  \n",
      "9993                3  \n",
      "\n",
      "[9994 rows x 8 columns]\n"
     ]
    }
   ],
   "source": [
    "fuente.cargar_datos_fuentes()"
   ]
  },
  {
   "attachments": {},
   "cell_type": "markdown",
   "metadata": {},
   "source": [
    "Ahora nustra base ya contiene datos, asi mismo como el Bucket S3\n",
    "\n",
    "BD:\n",
    "- City\n",
    "- Customer\n",
    "- Order\n",
    "- Regiom\n",
    "\n",
    "Bucket S3:\n",
    "- Category\n",
    "- Subcategory"
   ]
  }
 ],
 "metadata": {
  "kernelspec": {
   "display_name": "datascience",
   "language": "python",
   "name": "python3"
  },
  "language_info": {
   "codemirror_mode": {
    "name": "ipython",
    "version": 3
   },
   "file_extension": ".py",
   "mimetype": "text/x-python",
   "name": "python",
   "nbconvert_exporter": "python",
   "pygments_lexer": "ipython3",
   "version": "3.9.16"
  },
  "orig_nbformat": 4
 },
 "nbformat": 4,
 "nbformat_minor": 2
}
